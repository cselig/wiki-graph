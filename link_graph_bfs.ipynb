{
 "cells": [
  {
   "cell_type": "code",
   "execution_count": 1,
   "metadata": {},
   "outputs": [],
   "source": [
    "import util"
   ]
  },
  {
   "cell_type": "code",
   "execution_count": 2,
   "metadata": {},
   "outputs": [
    {
     "name": "stdout",
     "output_type": "stream",
     "text": [
      "CPU times: user 53.3 s, sys: 1min 14s, total: 2min 7s\n",
      "Wall time: 3min 50s\n"
     ]
    }
   ],
   "source": [
    "%%time\n",
    "arr = util.get_graph()"
   ]
  },
  {
   "cell_type": "code",
   "execution_count": 3,
   "metadata": {},
   "outputs": [],
   "source": [
    "from queue import Queue\n",
    "from copy import copy\n",
    "from typing import List\n",
    "\n",
    "BREADTH_CUTOFF = 5\n",
    "\n",
    "def bfs_no_path(src, dst):    \n",
    "    visited = set()\n",
    "\n",
    "    q = Queue()\n",
    "    q.put(src)\n",
    "\n",
    "    breadth = 0\n",
    "    while not q.empty():\n",
    "        print('breadth, qsize:', breadth, q.qsize())\n",
    "        for _ in range(q.qsize()):\n",
    "            offset = q.get()\n",
    "            if offset not in visited:\n",
    "                visited.add(offset)\n",
    "                if offset == dst:\n",
    "                    print('Path of length %s found' % breadth)\n",
    "                    return\n",
    "                # add neighbors to queue\n",
    "                ind = offset // 4\n",
    "                num_links = arr[ind + 1]\n",
    "                link_start_ind = ind + 4\n",
    "                for i in range(link_start_ind, link_start_ind + num_links):\n",
    "                    q.put(arr[i])\n",
    "        \n",
    "        breadth += 1\n",
    "        if breadth > BREADTH_CUTOFF:\n",
    "            print('Breadth cutoff exceeded')\n",
    "            return\n",
    "    print('No path found')\n",
    "\n",
    "\n",
    "class Node:\n",
    "    def __init__(self, offset: int, parent: 'Node', children: 'List[Node]' = []):\n",
    "        self.offset = offset\n",
    "        self.parent = parent\n",
    "        self.children = children\n",
    "        \n",
    "\n",
    "def trace_node(node: Node):\n",
    "    path = []\n",
    "    \n",
    "    path.append(node.offset)\n",
    "    while node.parent:\n",
    "        node = node.parent\n",
    "        path.append(node.offset)\n",
    "    \n",
    "    return path[::-1]\n",
    "\n",
    "\n",
    "def bfs_with_path_v0(src, dst):    \n",
    "    visited = set()\n",
    "\n",
    "    q = Queue()\n",
    "    start_node = Node(src, None)\n",
    "    q.put(start_node)\n",
    "\n",
    "    visited.add(src)\n",
    "\n",
    "    breadth = 0\n",
    "    while not q.empty():\n",
    "        print('breadth, qsize:', breadth, q.qsize())\n",
    "        for _ in range(q.qsize()):\n",
    "            node = q.get()\n",
    "            offset = node.offset\n",
    "            \n",
    "            visited.add(offset)\n",
    "            if offset == dst:\n",
    "                print('Path of length %s found' % breadth)\n",
    "                return trace_node(node)\n",
    "            # add neighbors to queue\n",
    "            ind = offset // 4\n",
    "            num_links = arr[ind + 1]\n",
    "            link_start_ind = ind + 4\n",
    "            for i in range(link_start_ind, link_start_ind + num_links):\n",
    "                to_visit_offset = arr[i]\n",
    "                if to_visit_offset not in visited:\n",
    "                    visited.add(to_visit_offset)\n",
    "                    to_visit_node = Node(to_visit_offset, node)\n",
    "                    node.children.append(to_visit_node)\n",
    "                    q.put(to_visit_node)\n",
    "\n",
    "        breadth += 1\n",
    "        if breadth > BREADTH_CUTOFF:\n",
    "            print('Breadth cutoff exceeded')\n",
    "            return []\n",
    "    print('No path found')"
   ]
  },
  {
   "cell_type": "code",
   "execution_count": 4,
   "metadata": {},
   "outputs": [],
   "source": [
    "def bfs(src: int, dst: int) -> int:  \n",
    "    assert src != dst\n",
    "\n",
    "    q = Queue()\n",
    "    q.put(src)\n",
    "\n",
    "    # mark start node with parent = -1\n",
    "    arr[src // 4] = -1\n",
    "\n",
    "    breadth = 1\n",
    "    while not q.empty():\n",
    "        print('breadth, qsize:', breadth, q.qsize())\n",
    "        for _ in range(q.qsize()):\n",
    "            offset = q.get()\n",
    "            ind = offset // 4\n",
    "            num_links = arr[ind + 1]\n",
    "            link_start_ind = ind + 4\n",
    "            for i in range(link_start_ind, link_start_ind + num_links):\n",
    "                to_visit_offset = arr[i]\n",
    "                # if a node has not had its parent set, it hasn't been visited\n",
    "                if arr[to_visit_offset // 4] == 0:\n",
    "                    # mark parent\n",
    "                    arr[to_visit_offset // 4] = offset\n",
    "                    if to_visit_offset == dst:\n",
    "                        print('Path of length %s found' % (breadth + 1))\n",
    "                        return to_visit_offset\n",
    "                    # add to queue\n",
    "                    q.put(to_visit_offset)\n",
    "\n",
    "        breadth += 1\n",
    "\n",
    "    print('No path found')"
   ]
  },
  {
   "cell_type": "code",
   "execution_count": 5,
   "metadata": {},
   "outputs": [
    {
     "data": {
      "text/plain": [
       "(30406060, 283795788)"
      ]
     },
     "execution_count": 5,
     "metadata": {},
     "output_type": "execute_result"
    }
   ],
   "source": [
    "# source and destination, in byte offsets\n",
    "src = 'Jeff Bezos' # 'Craig Evans (Australian footballer)'\n",
    "dst = 'Illuminati' # 'Calliandra conferta'\n",
    "\n",
    "src_offset = util.title_to_offset(src)\n",
    "dst_offset = util.title_to_offset(dst)\n",
    "\n",
    "if src_offset is None:\n",
    "    raise Exception('Source does not exist')\n",
    "if dst_offset is None:\n",
    "    raise Exception('Destination does not exist')\n",
    "    \n",
    "src_offset, dst_offset"
   ]
  },
  {
   "cell_type": "code",
   "execution_count": 6,
   "metadata": {},
   "outputs": [
    {
     "name": "stdout",
     "output_type": "stream",
     "text": [
      "CPU times: user 3.76 s, sys: 3.58 s, total: 7.34 s\n",
      "Wall time: 11.4 s\n"
     ]
    }
   ],
   "source": [
    "%%time\n",
    "util.clear_parent_refs(arr)"
   ]
  },
  {
   "cell_type": "code",
   "execution_count": 7,
   "metadata": {},
   "outputs": [
    {
     "name": "stdout",
     "output_type": "stream",
     "text": [
      "breadth, qsize: 1 1\n",
      "breadth, qsize: 2 153\n",
      "breadth, qsize: 3 15335\n",
      "Path of length 4 found\n",
      "CPU times: user 3.47 s, sys: 1.32 s, total: 4.79 s\n",
      "Wall time: 7.03 s\n"
     ]
    },
    {
     "data": {
      "text/plain": [
       "['Jeff Bezos',\n",
       " 'University of Florida',\n",
       " 'Fraternities and sororities',\n",
       " 'Illuminati']"
      ]
     },
     "execution_count": 7,
     "metadata": {},
     "output_type": "execute_result"
    }
   ],
   "source": [
    "%%time\n",
    "offset = bfs(src_offset, dst_offset)\n",
    "path = util.trace_path(arr, offset)\n",
    "[util.offset_to_title(x) for x in path]"
   ]
  },
  {
   "cell_type": "code",
   "execution_count": 8,
   "metadata": {},
   "outputs": [
    {
     "data": {
      "text/plain": [
       "['Calliandra conferta',\n",
       " 'Calliandra',\n",
       " 'Fabaceae',\n",
       " 'Acacia',\n",
       " 'Australia',\n",
       " 'Grovedale Football Club',\n",
       " 'Craig Evans (Australian footballer)']"
      ]
     },
     "execution_count": 8,
     "metadata": {},
     "output_type": "execute_result"
    }
   ],
   "source": [
    "[util.offset_to_title(x) for x in [515901088, 141240020, 17305252, 783775484, 219527324, 276863436, 586209616]]"
   ]
  }
 ],
 "metadata": {
  "kernelspec": {
   "display_name": "Python 3",
   "language": "python",
   "name": "python3"
  },
  "language_info": {
   "codemirror_mode": {
    "name": "ipython",
    "version": 3
   },
   "file_extension": ".py",
   "mimetype": "text/x-python",
   "name": "python",
   "nbconvert_exporter": "python",
   "pygments_lexer": "ipython3",
   "version": "3.6.0"
  }
 },
 "nbformat": 4,
 "nbformat_minor": 2
}
